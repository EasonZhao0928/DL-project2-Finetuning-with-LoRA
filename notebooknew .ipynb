{
 "cells": [
  {
   "cell_type": "markdown",
   "id": "a02285e6",
   "metadata": {
    "id": "a02285e6"
   },
   "source": [
    "# Starter Notebook"
   ]
  },
  {
   "cell_type": "markdown",
   "id": "bdcc5329",
   "metadata": {
    "id": "bdcc5329"
   },
   "source": [
    "Install and import required libraries"
   ]
  },
  {
   "cell_type": "code",
   "execution_count": 1,
   "id": "348ceed6-b684-46c3-8a32-9bb640c9a9d7",
   "metadata": {
    "execution": {
     "iopub.execute_input": "2025-04-18T16:45:24.974288Z",
     "iopub.status.busy": "2025-04-18T16:45:24.974063Z",
     "iopub.status.idle": "2025-04-18T16:46:01.560436Z",
     "shell.execute_reply": "2025-04-18T16:46:01.559559Z",
     "shell.execute_reply.started": "2025-04-18T16:45:24.974272Z"
    },
    "id": "348ceed6-b684-46c3-8a32-9bb640c9a9d7",
    "trusted": true
   },
   "outputs": [
    {
     "name": "stdout",
     "output_type": "stream",
     "text": [
      "Requirement already satisfied: transformers in /home/zyc/anaconda3/envs/DLproject/lib/python3.10/site-packages (4.51.2)\n",
      "Requirement already satisfied: datasets in /home/zyc/anaconda3/envs/DLproject/lib/python3.10/site-packages (3.5.0)\n",
      "Requirement already satisfied: evaluate in /home/zyc/anaconda3/envs/DLproject/lib/python3.10/site-packages (0.4.3)\n",
      "Requirement already satisfied: accelerate in /home/zyc/anaconda3/envs/DLproject/lib/python3.10/site-packages (1.6.0)\n",
      "Requirement already satisfied: peft in /home/zyc/anaconda3/envs/DLproject/lib/python3.10/site-packages (0.15.1)\n",
      "Requirement already satisfied: trl in /home/zyc/anaconda3/envs/DLproject/lib/python3.10/site-packages (0.16.1)\n",
      "Requirement already satisfied: bitsandbytes in /home/zyc/anaconda3/envs/DLproject/lib/python3.10/site-packages (0.45.5)\n",
      "Requirement already satisfied: filelock in /home/zyc/anaconda3/envs/DLproject/lib/python3.10/site-packages (from transformers) (3.18.0)\n",
      "Requirement already satisfied: huggingface-hub<1.0,>=0.30.0 in /home/zyc/anaconda3/envs/DLproject/lib/python3.10/site-packages (from transformers) (0.30.2)\n",
      "Requirement already satisfied: numpy>=1.17 in /home/zyc/anaconda3/envs/DLproject/lib/python3.10/site-packages (from transformers) (2.2.4)\n",
      "Requirement already satisfied: packaging>=20.0 in /home/zyc/anaconda3/envs/DLproject/lib/python3.10/site-packages (from transformers) (24.2)\n",
      "Requirement already satisfied: pyyaml>=5.1 in /home/zyc/anaconda3/envs/DLproject/lib/python3.10/site-packages (from transformers) (6.0.2)\n",
      "Requirement already satisfied: regex!=2019.12.17 in /home/zyc/anaconda3/envs/DLproject/lib/python3.10/site-packages (from transformers) (2024.11.6)\n",
      "Requirement already satisfied: requests in /home/zyc/anaconda3/envs/DLproject/lib/python3.10/site-packages (from transformers) (2.32.3)\n",
      "Requirement already satisfied: tokenizers<0.22,>=0.21 in /home/zyc/anaconda3/envs/DLproject/lib/python3.10/site-packages (from transformers) (0.21.1)\n",
      "Requirement already satisfied: safetensors>=0.4.3 in /home/zyc/anaconda3/envs/DLproject/lib/python3.10/site-packages (from transformers) (0.5.3)\n",
      "Requirement already satisfied: tqdm>=4.27 in /home/zyc/anaconda3/envs/DLproject/lib/python3.10/site-packages (from transformers) (4.67.1)\n",
      "Requirement already satisfied: pyarrow>=15.0.0 in /home/zyc/anaconda3/envs/DLproject/lib/python3.10/site-packages (from datasets) (19.0.1)\n",
      "Requirement already satisfied: dill<0.3.9,>=0.3.0 in /home/zyc/anaconda3/envs/DLproject/lib/python3.10/site-packages (from datasets) (0.3.8)\n",
      "Requirement already satisfied: pandas in /home/zyc/anaconda3/envs/DLproject/lib/python3.10/site-packages (from datasets) (2.2.3)\n",
      "Requirement already satisfied: xxhash in /home/zyc/anaconda3/envs/DLproject/lib/python3.10/site-packages (from datasets) (3.5.0)\n",
      "Requirement already satisfied: multiprocess<0.70.17 in /home/zyc/anaconda3/envs/DLproject/lib/python3.10/site-packages (from datasets) (0.70.16)\n",
      "Requirement already satisfied: fsspec<=2024.12.0,>=2023.1.0 in /home/zyc/anaconda3/envs/DLproject/lib/python3.10/site-packages (from fsspec[http]<=2024.12.0,>=2023.1.0->datasets) (2024.12.0)\n",
      "Requirement already satisfied: aiohttp in /home/zyc/anaconda3/envs/DLproject/lib/python3.10/site-packages (from datasets) (3.11.16)\n",
      "Requirement already satisfied: psutil in /home/zyc/anaconda3/envs/DLproject/lib/python3.10/site-packages (from accelerate) (7.0.0)\n",
      "Requirement already satisfied: torch>=2.0.0 in /home/zyc/anaconda3/envs/DLproject/lib/python3.10/site-packages (from accelerate) (2.6.0)\n",
      "Requirement already satisfied: rich in /home/zyc/anaconda3/envs/DLproject/lib/python3.10/site-packages (from trl) (14.0.0)\n",
      "Requirement already satisfied: aiohappyeyeballs>=2.3.0 in /home/zyc/anaconda3/envs/DLproject/lib/python3.10/site-packages (from aiohttp->datasets) (2.6.1)\n",
      "Requirement already satisfied: aiosignal>=1.1.2 in /home/zyc/anaconda3/envs/DLproject/lib/python3.10/site-packages (from aiohttp->datasets) (1.3.2)\n",
      "Requirement already satisfied: async-timeout<6.0,>=4.0 in /home/zyc/anaconda3/envs/DLproject/lib/python3.10/site-packages (from aiohttp->datasets) (5.0.1)\n",
      "Requirement already satisfied: attrs>=17.3.0 in /home/zyc/anaconda3/envs/DLproject/lib/python3.10/site-packages (from aiohttp->datasets) (25.3.0)\n",
      "Requirement already satisfied: frozenlist>=1.1.1 in /home/zyc/anaconda3/envs/DLproject/lib/python3.10/site-packages (from aiohttp->datasets) (1.5.0)\n",
      "Requirement already satisfied: multidict<7.0,>=4.5 in /home/zyc/anaconda3/envs/DLproject/lib/python3.10/site-packages (from aiohttp->datasets) (6.4.3)\n",
      "Requirement already satisfied: propcache>=0.2.0 in /home/zyc/anaconda3/envs/DLproject/lib/python3.10/site-packages (from aiohttp->datasets) (0.3.1)\n",
      "Requirement already satisfied: yarl<2.0,>=1.17.0 in /home/zyc/anaconda3/envs/DLproject/lib/python3.10/site-packages (from aiohttp->datasets) (1.19.0)\n",
      "Requirement already satisfied: typing-extensions>=3.7.4.3 in /home/zyc/anaconda3/envs/DLproject/lib/python3.10/site-packages (from huggingface-hub<1.0,>=0.30.0->transformers) (4.13.2)\n",
      "Requirement already satisfied: charset-normalizer<4,>=2 in /home/zyc/anaconda3/envs/DLproject/lib/python3.10/site-packages (from requests->transformers) (3.4.1)\n",
      "Requirement already satisfied: idna<4,>=2.5 in /home/zyc/anaconda3/envs/DLproject/lib/python3.10/site-packages (from requests->transformers) (3.10)\n",
      "Requirement already satisfied: urllib3<3,>=1.21.1 in /home/zyc/anaconda3/envs/DLproject/lib/python3.10/site-packages (from requests->transformers) (2.4.0)\n",
      "Requirement already satisfied: certifi>=2017.4.17 in /home/zyc/anaconda3/envs/DLproject/lib/python3.10/site-packages (from requests->transformers) (2025.1.31)\n",
      "Requirement already satisfied: networkx in /home/zyc/anaconda3/envs/DLproject/lib/python3.10/site-packages (from torch>=2.0.0->accelerate) (3.4.2)\n",
      "Requirement already satisfied: jinja2 in /home/zyc/anaconda3/envs/DLproject/lib/python3.10/site-packages (from torch>=2.0.0->accelerate) (3.1.6)\n",
      "Requirement already satisfied: nvidia-cuda-nvrtc-cu12==12.4.127 in /home/zyc/anaconda3/envs/DLproject/lib/python3.10/site-packages (from torch>=2.0.0->accelerate) (12.4.127)\n",
      "Requirement already satisfied: nvidia-cuda-runtime-cu12==12.4.127 in /home/zyc/anaconda3/envs/DLproject/lib/python3.10/site-packages (from torch>=2.0.0->accelerate) (12.4.127)\n",
      "Requirement already satisfied: nvidia-cuda-cupti-cu12==12.4.127 in /home/zyc/anaconda3/envs/DLproject/lib/python3.10/site-packages (from torch>=2.0.0->accelerate) (12.4.127)\n",
      "Requirement already satisfied: nvidia-cudnn-cu12==9.1.0.70 in /home/zyc/anaconda3/envs/DLproject/lib/python3.10/site-packages (from torch>=2.0.0->accelerate) (9.1.0.70)\n",
      "Requirement already satisfied: nvidia-cublas-cu12==12.4.5.8 in /home/zyc/anaconda3/envs/DLproject/lib/python3.10/site-packages (from torch>=2.0.0->accelerate) (12.4.5.8)\n",
      "Requirement already satisfied: nvidia-cufft-cu12==11.2.1.3 in /home/zyc/anaconda3/envs/DLproject/lib/python3.10/site-packages (from torch>=2.0.0->accelerate) (11.2.1.3)\n",
      "Requirement already satisfied: nvidia-curand-cu12==10.3.5.147 in /home/zyc/anaconda3/envs/DLproject/lib/python3.10/site-packages (from torch>=2.0.0->accelerate) (10.3.5.147)\n",
      "Requirement already satisfied: nvidia-cusolver-cu12==11.6.1.9 in /home/zyc/anaconda3/envs/DLproject/lib/python3.10/site-packages (from torch>=2.0.0->accelerate) (11.6.1.9)\n",
      "Requirement already satisfied: nvidia-cusparse-cu12==12.3.1.170 in /home/zyc/anaconda3/envs/DLproject/lib/python3.10/site-packages (from torch>=2.0.0->accelerate) (12.3.1.170)\n",
      "Requirement already satisfied: nvidia-cusparselt-cu12==0.6.2 in /home/zyc/anaconda3/envs/DLproject/lib/python3.10/site-packages (from torch>=2.0.0->accelerate) (0.6.2)\n",
      "Requirement already satisfied: nvidia-nccl-cu12==2.21.5 in /home/zyc/anaconda3/envs/DLproject/lib/python3.10/site-packages (from torch>=2.0.0->accelerate) (2.21.5)\n",
      "Requirement already satisfied: nvidia-nvtx-cu12==12.4.127 in /home/zyc/anaconda3/envs/DLproject/lib/python3.10/site-packages (from torch>=2.0.0->accelerate) (12.4.127)\n",
      "Requirement already satisfied: nvidia-nvjitlink-cu12==12.4.127 in /home/zyc/anaconda3/envs/DLproject/lib/python3.10/site-packages (from torch>=2.0.0->accelerate) (12.4.127)\n",
      "Requirement already satisfied: triton==3.2.0 in /home/zyc/anaconda3/envs/DLproject/lib/python3.10/site-packages (from torch>=2.0.0->accelerate) (3.2.0)\n",
      "Requirement already satisfied: sympy==1.13.1 in /home/zyc/anaconda3/envs/DLproject/lib/python3.10/site-packages (from torch>=2.0.0->accelerate) (1.13.1)\n",
      "Requirement already satisfied: mpmath<1.4,>=1.1.0 in /home/zyc/anaconda3/envs/DLproject/lib/python3.10/site-packages (from sympy==1.13.1->torch>=2.0.0->accelerate) (1.3.0)\n",
      "Requirement already satisfied: python-dateutil>=2.8.2 in /home/zyc/anaconda3/envs/DLproject/lib/python3.10/site-packages (from pandas->datasets) (2.9.0.post0)\n",
      "Requirement already satisfied: pytz>=2020.1 in /home/zyc/anaconda3/envs/DLproject/lib/python3.10/site-packages (from pandas->datasets) (2025.2)\n",
      "Requirement already satisfied: tzdata>=2022.7 in /home/zyc/anaconda3/envs/DLproject/lib/python3.10/site-packages (from pandas->datasets) (2025.2)\n",
      "Requirement already satisfied: markdown-it-py>=2.2.0 in /home/zyc/anaconda3/envs/DLproject/lib/python3.10/site-packages (from rich->trl) (3.0.0)\n",
      "Requirement already satisfied: pygments<3.0.0,>=2.13.0 in /home/zyc/anaconda3/envs/DLproject/lib/python3.10/site-packages (from rich->trl) (2.19.1)\n",
      "Requirement already satisfied: mdurl~=0.1 in /home/zyc/anaconda3/envs/DLproject/lib/python3.10/site-packages (from markdown-it-py>=2.2.0->rich->trl) (0.1.2)\n",
      "Requirement already satisfied: six>=1.5 in /home/zyc/anaconda3/envs/DLproject/lib/python3.10/site-packages (from python-dateutil>=2.8.2->pandas->datasets) (1.17.0)\n",
      "Requirement already satisfied: MarkupSafe>=2.0 in /home/zyc/anaconda3/envs/DLproject/lib/python3.10/site-packages (from jinja2->torch>=2.0.0->accelerate) (3.0.2)\n",
      "Note: you may need to restart the kernel to use updated packages.\n",
      "Requirement already satisfied: nvidia-ml-py3 in /home/zyc/anaconda3/envs/DLproject/lib/python3.10/site-packages (7.352.0)\n",
      "Note: you may need to restart the kernel to use updated packages.\n",
      "Requirement already satisfied: nlpaug in /home/zyc/anaconda3/envs/DLproject/lib/python3.10/site-packages (1.1.11)\n",
      "Requirement already satisfied: numpy>=1.16.2 in /home/zyc/anaconda3/envs/DLproject/lib/python3.10/site-packages (from nlpaug) (2.2.4)\n",
      "Requirement already satisfied: pandas>=1.2.0 in /home/zyc/anaconda3/envs/DLproject/lib/python3.10/site-packages (from nlpaug) (2.2.3)\n",
      "Requirement already satisfied: requests>=2.22.0 in /home/zyc/anaconda3/envs/DLproject/lib/python3.10/site-packages (from nlpaug) (2.32.3)\n",
      "Requirement already satisfied: gdown>=4.0.0 in /home/zyc/anaconda3/envs/DLproject/lib/python3.10/site-packages (from nlpaug) (5.2.0)\n",
      "Requirement already satisfied: beautifulsoup4 in /home/zyc/anaconda3/envs/DLproject/lib/python3.10/site-packages (from gdown>=4.0.0->nlpaug) (4.13.3)\n",
      "Requirement already satisfied: filelock in /home/zyc/anaconda3/envs/DLproject/lib/python3.10/site-packages (from gdown>=4.0.0->nlpaug) (3.18.0)\n",
      "Requirement already satisfied: tqdm in /home/zyc/anaconda3/envs/DLproject/lib/python3.10/site-packages (from gdown>=4.0.0->nlpaug) (4.67.1)\n",
      "Requirement already satisfied: python-dateutil>=2.8.2 in /home/zyc/anaconda3/envs/DLproject/lib/python3.10/site-packages (from pandas>=1.2.0->nlpaug) (2.9.0.post0)\n",
      "Requirement already satisfied: pytz>=2020.1 in /home/zyc/anaconda3/envs/DLproject/lib/python3.10/site-packages (from pandas>=1.2.0->nlpaug) (2025.2)\n",
      "Requirement already satisfied: tzdata>=2022.7 in /home/zyc/anaconda3/envs/DLproject/lib/python3.10/site-packages (from pandas>=1.2.0->nlpaug) (2025.2)\n",
      "Requirement already satisfied: charset-normalizer<4,>=2 in /home/zyc/anaconda3/envs/DLproject/lib/python3.10/site-packages (from requests>=2.22.0->nlpaug) (3.4.1)\n",
      "Requirement already satisfied: idna<4,>=2.5 in /home/zyc/anaconda3/envs/DLproject/lib/python3.10/site-packages (from requests>=2.22.0->nlpaug) (3.10)\n",
      "Requirement already satisfied: urllib3<3,>=1.21.1 in /home/zyc/anaconda3/envs/DLproject/lib/python3.10/site-packages (from requests>=2.22.0->nlpaug) (2.4.0)\n",
      "Requirement already satisfied: certifi>=2017.4.17 in /home/zyc/anaconda3/envs/DLproject/lib/python3.10/site-packages (from requests>=2.22.0->nlpaug) (2025.1.31)\n",
      "Requirement already satisfied: six>=1.5 in /home/zyc/anaconda3/envs/DLproject/lib/python3.10/site-packages (from python-dateutil>=2.8.2->pandas>=1.2.0->nlpaug) (1.17.0)\n",
      "Requirement already satisfied: soupsieve>1.2 in /home/zyc/anaconda3/envs/DLproject/lib/python3.10/site-packages (from beautifulsoup4->gdown>=4.0.0->nlpaug) (2.6)\n",
      "Requirement already satisfied: typing-extensions>=4.0.0 in /home/zyc/anaconda3/envs/DLproject/lib/python3.10/site-packages (from beautifulsoup4->gdown>=4.0.0->nlpaug) (4.13.2)\n",
      "Requirement already satisfied: PySocks!=1.5.7,>=1.5.6 in /home/zyc/anaconda3/envs/DLproject/lib/python3.10/site-packages (from requests[socks]->gdown>=4.0.0->nlpaug) (1.7.1)\n",
      "Note: you may need to restart the kernel to use updated packages.\n"
     ]
    }
   ],
   "source": [
    "%pip install transformers datasets evaluate accelerate peft trl bitsandbytes\n",
    "%pip install nvidia-ml-py3\n",
    "%pip install nlpaug"
   ]
  },
  {
   "cell_type": "code",
   "execution_count": 2,
   "id": "cca64f38-d8d2-4313-8295-fbbd43c2a263",
   "metadata": {
    "execution": {
     "iopub.execute_input": "2025-04-18T16:46:16.537988Z",
     "iopub.status.busy": "2025-04-18T16:46:16.537208Z",
     "iopub.status.idle": "2025-04-18T16:46:40.946132Z",
     "shell.execute_reply": "2025-04-18T16:46:40.945316Z",
     "shell.execute_reply.started": "2025-04-18T16:46:16.537952Z"
    },
    "id": "cca64f38-d8d2-4313-8295-fbbd43c2a263",
    "trusted": true
   },
   "outputs": [
    {
     "name": "stderr",
     "output_type": "stream",
     "text": [
      "/home/zyc/anaconda3/envs/DLproject/lib/python3.10/site-packages/tqdm/auto.py:21: TqdmWarning: IProgress not found. Please update jupyter and ipywidgets. See https://ipywidgets.readthedocs.io/en/stable/user_install.html\n",
      "  from .autonotebook import tqdm as notebook_tqdm\n"
     ]
    }
   ],
   "source": [
    "import os\n",
    "import pandas as pd\n",
    "import torch\n",
    "from transformers import RobertaModel, RobertaTokenizer, TrainingArguments, Trainer, DataCollatorWithPadding, RobertaForSequenceClassification, EarlyStoppingCallback\n",
    "from peft import LoraConfig, get_peft_model, PeftModel\n",
    "from datasets import load_dataset, Dataset, ClassLabel\n",
    "import pickle"
   ]
  },
  {
   "cell_type": "markdown",
   "id": "59d6e377",
   "metadata": {
    "id": "59d6e377"
   },
   "source": [
    "## Load Tokenizer and Preprocess Data"
   ]
  },
  {
   "cell_type": "code",
   "execution_count": 3,
   "id": "21f42747-f551-40a5-a95f-7affb1eba4a3",
   "metadata": {
    "execution": {
     "iopub.execute_input": "2025-04-18T16:47:51.176440Z",
     "iopub.status.busy": "2025-04-18T16:47:51.176135Z",
     "iopub.status.idle": "2025-04-18T16:47:53.759466Z",
     "shell.execute_reply": "2025-04-18T16:47:53.758932Z",
     "shell.execute_reply.started": "2025-04-18T16:47:51.176410Z"
    },
    "id": "21f42747-f551-40a5-a95f-7affb1eba4a3",
    "trusted": true
   },
   "outputs": [],
   "source": [
    "base_model = 'roberta-base'\n",
    "\n",
    "dataset = load_dataset('ag_news', split='train')\n",
    "tokenizer = RobertaTokenizer.from_pretrained(base_model)\n",
    "\n",
    "def preprocess(examples):\n",
    "    tokenized = tokenizer(examples['text'], truncation=True, padding=True)\n",
    "    return tokenized\n",
    "\n",
    "tokenized_dataset = dataset.map(preprocess, batched=True,  remove_columns=[\"text\"])\n",
    "tokenized_dataset = tokenized_dataset.rename_column(\"label\", \"labels\")"
   ]
  },
  {
   "cell_type": "code",
   "execution_count": 4,
   "id": "9e07f641-bec0-43a6-8c26-510d7642916a",
   "metadata": {
    "execution": {
     "iopub.execute_input": "2025-04-18T16:47:53.761108Z",
     "iopub.status.busy": "2025-04-18T16:47:53.760867Z",
     "iopub.status.idle": "2025-04-18T16:47:53.765933Z",
     "shell.execute_reply": "2025-04-18T16:47:53.765257Z",
     "shell.execute_reply.started": "2025-04-18T16:47:53.761084Z"
    },
    "id": "9e07f641-bec0-43a6-8c26-510d7642916a",
    "trusted": true
   },
   "outputs": [
    {
     "name": "stdout",
     "output_type": "stream",
     "text": [
      "number of labels: 4\n",
      "the labels: ['World', 'Sports', 'Business', 'Sci/Tech']\n"
     ]
    }
   ],
   "source": [
    "# Extract the number of classess and their names\n",
    "num_labels = dataset.features['label'].num_classes\n",
    "class_names = dataset.features[\"label\"].names\n",
    "print(f\"number of labels: {num_labels}\")\n",
    "print(f\"the labels: {class_names}\")\n",
    "\n",
    "# Create an id2label mapping\n",
    "# We will need this for our classifier.\n",
    "id2label = {i: label for i, label in enumerate(class_names)}\n",
    "\n",
    "data_collator = DataCollatorWithPadding(tokenizer=tokenizer, return_tensors=\"pt\")\n"
   ]
  },
  {
   "cell_type": "markdown",
   "id": "c9e24afd",
   "metadata": {
    "id": "c9e24afd"
   },
   "source": [
    "## Load Pre-trained Model\n",
    "Set up config for pretrained model and download it from hugging face"
   ]
  },
  {
   "cell_type": "code",
   "execution_count": 5,
   "id": "262a8416-a59c-4ea1-95d9-0b1f81d6094c",
   "metadata": {
    "execution": {
     "iopub.execute_input": "2025-04-18T16:47:53.766799Z",
     "iopub.status.busy": "2025-04-18T16:47:53.766600Z",
     "iopub.status.idle": "2025-04-18T16:47:56.339526Z",
     "shell.execute_reply": "2025-04-18T16:47:56.338988Z",
     "shell.execute_reply.started": "2025-04-18T16:47:53.766783Z"
    },
    "id": "262a8416-a59c-4ea1-95d9-0b1f81d6094c",
    "trusted": true
   },
   "outputs": [
    {
     "name": "stderr",
     "output_type": "stream",
     "text": [
      "Some weights of RobertaForSequenceClassification were not initialized from the model checkpoint at roberta-base and are newly initialized: ['classifier.dense.bias', 'classifier.dense.weight', 'classifier.out_proj.bias', 'classifier.out_proj.weight']\n",
      "You should probably TRAIN this model on a down-stream task to be able to use it for predictions and inference.\n"
     ]
    },
    {
     "data": {
      "text/plain": [
       "RobertaForSequenceClassification(\n",
       "  (roberta): RobertaModel(\n",
       "    (embeddings): RobertaEmbeddings(\n",
       "      (word_embeddings): Embedding(50265, 768, padding_idx=1)\n",
       "      (position_embeddings): Embedding(514, 768, padding_idx=1)\n",
       "      (token_type_embeddings): Embedding(1, 768)\n",
       "      (LayerNorm): LayerNorm((768,), eps=1e-05, elementwise_affine=True)\n",
       "      (dropout): Dropout(p=0.1, inplace=False)\n",
       "    )\n",
       "    (encoder): RobertaEncoder(\n",
       "      (layer): ModuleList(\n",
       "        (0-11): 12 x RobertaLayer(\n",
       "          (attention): RobertaAttention(\n",
       "            (self): RobertaSdpaSelfAttention(\n",
       "              (query): Linear(in_features=768, out_features=768, bias=True)\n",
       "              (key): Linear(in_features=768, out_features=768, bias=True)\n",
       "              (value): Linear(in_features=768, out_features=768, bias=True)\n",
       "              (dropout): Dropout(p=0.1, inplace=False)\n",
       "            )\n",
       "            (output): RobertaSelfOutput(\n",
       "              (dense): Linear(in_features=768, out_features=768, bias=True)\n",
       "              (LayerNorm): LayerNorm((768,), eps=1e-05, elementwise_affine=True)\n",
       "              (dropout): Dropout(p=0.1, inplace=False)\n",
       "            )\n",
       "          )\n",
       "          (intermediate): RobertaIntermediate(\n",
       "            (dense): Linear(in_features=768, out_features=3072, bias=True)\n",
       "            (intermediate_act_fn): GELUActivation()\n",
       "          )\n",
       "          (output): RobertaOutput(\n",
       "            (dense): Linear(in_features=3072, out_features=768, bias=True)\n",
       "            (LayerNorm): LayerNorm((768,), eps=1e-05, elementwise_affine=True)\n",
       "            (dropout): Dropout(p=0.1, inplace=False)\n",
       "          )\n",
       "        )\n",
       "      )\n",
       "    )\n",
       "  )\n",
       "  (classifier): RobertaClassificationHead(\n",
       "    (dense): Linear(in_features=768, out_features=768, bias=True)\n",
       "    (dropout): Dropout(p=0.1, inplace=False)\n",
       "    (out_proj): Linear(in_features=768, out_features=4, bias=True)\n",
       "  )\n",
       ")"
      ]
     },
     "execution_count": 5,
     "metadata": {},
     "output_type": "execute_result"
    }
   ],
   "source": [
    "model = RobertaForSequenceClassification.from_pretrained(\n",
    "    base_model,\n",
    "    id2label=id2label)\n",
    "model"
   ]
  },
  {
   "cell_type": "markdown",
   "id": "f265839d-a088-4693-8474-862641de11ed",
   "metadata": {
    "id": "f265839d-a088-4693-8474-862641de11ed"
   },
   "source": [
    "## Anything from here on can be modified"
   ]
  },
  {
   "cell_type": "code",
   "execution_count": 6,
   "id": "e7413430-be57-482b-856e-36bd4ba799df",
   "metadata": {
    "id": "e7413430-be57-482b-856e-36bd4ba799df"
   },
   "outputs": [],
   "source": [
    "# Split the original training set\n",
    "#split_datasets = tokenized_dataset.train_test_split(test_size=640, seed=42)\n",
    "#train_dataset = split_datasets['train']\n",
    "#eval_dataset = split_datasets['test']"
   ]
  },
  {
   "cell_type": "markdown",
   "id": "0b8dfbf4",
   "metadata": {},
   "source": [
    "## Data Cleaning and Augmentation"
   ]
  },
  {
   "cell_type": "code",
   "execution_count": 7,
   "id": "8e88edc3-d2fc-4984-9f53-e09f84bf300e",
   "metadata": {
    "execution": {
     "iopub.execute_input": "2025-04-18T16:57:00.225674Z",
     "iopub.status.busy": "2025-04-18T16:57:00.225360Z",
     "iopub.status.idle": "2025-04-18T17:02:53.645570Z",
     "shell.execute_reply": "2025-04-18T17:02:53.644971Z",
     "shell.execute_reply.started": "2025-04-18T16:57:00.225650Z"
    },
    "trusted": true
   },
   "outputs": [
    {
     "name": "stderr",
     "output_type": "stream",
     "text": [
      "[nltk_data] Downloading package averaged_perceptron_tagger_eng to\n",
      "[nltk_data]     /home/zyc/nltk_data...\n",
      "[nltk_data]   Package averaged_perceptron_tagger_eng is already up-to-\n",
      "[nltk_data]       date!\n",
      "[nltk_data] Downloading package wordnet to /home/zyc/nltk_data...\n",
      "[nltk_data]   Package wordnet is already up-to-date!\n",
      "Parameter 'function'=<function augment_text at 0x7f612e0ebb50> of the transform datasets.arrow_dataset.Dataset._map_single couldn't be hashed properly, a random hash was used instead. Make sure your transforms and parameters are serializable with pickle or dill for the dataset fingerprinting and caching to work. If you reuse this transform, the caching mechanism will consider it to be different from the previous calls and recompute everything. This warning is only showed once. Subsequent hashing failures won't be showed.\n",
      "Map: 100%|██████████| 120000/120000 [01:44<00:00, 1143.50 examples/s]\n",
      "Map: 100%|██████████| 240000/240000 [00:52<00:00, 4558.28 examples/s]\n"
     ]
    }
   ],
   "source": [
    "# -------- 数据增强（静音 + 预热版） --------\n",
    "import nltk\n",
    "import logging\n",
    "import contextlib\n",
    "import os\n",
    "import sys\n",
    "from datasets import concatenate_datasets\n",
    "import nlpaug.augmenter.word as naw\n",
    "\n",
    "# ✅ 禁用 nltk 输出日志\n",
    "nltk_logger = logging.getLogger('nltk')\n",
    "nltk_logger.setLevel(logging.CRITICAL)\n",
    "\n",
    "# ✅ 重定向 stdout + stderr\n",
    "@contextlib.contextmanager\n",
    "def suppress_output():\n",
    "    with open(os.devnull, 'w') as devnull:\n",
    "        old_stdout = sys.stdout\n",
    "        old_stderr = sys.stderr\n",
    "        try:\n",
    "            sys.stdout = devnull\n",
    "            sys.stderr = devnull\n",
    "            yield\n",
    "        finally:\n",
    "            sys.stdout = old_stdout\n",
    "            sys.stderr = old_stderr\n",
    "\n",
    "# ✅ 静音下载 + 预热 nltk 所需模块\n",
    "with suppress_output():\n",
    "    nltk.download('averaged_perceptron_tagger_eng')\n",
    "    nltk.download('wordnet')\n",
    "    nltk.pos_tag([\"warmup\"])  # 触发 pos_tag 加载\n",
    "    from nltk.corpus import wordnet\n",
    "    _ = wordnet.synsets(\"dog\")  # 触发 wordnet 加载\n",
    "\n",
    "# ✅ 初始化增强器\n",
    "syn_aug = naw.SynonymAug(aug_src='wordnet', aug_max=4)\n",
    "\n",
    "# ✅ 定义增强函数（完全静音 + 修复 augment 返回 list 的问题）\n",
    "def augment_text(example):\n",
    "    try:\n",
    "        with suppress_output():\n",
    "            result = syn_aug.augment(example['text'])\n",
    "            augmented_text = result[0] if isinstance(result, list) else result  # ✅ 只取第一个增强版本\n",
    "        return {'text': augmented_text}\n",
    "    except:\n",
    "        return {'text': example['text']}\n",
    "\n",
    "# ✅ 执行增强（单线程 + 禁用缓存）\n",
    "augmented_dataset = dataset.map(\n",
    "    augment_text,\n",
    "    num_proc=1,\n",
    "    load_from_cache_file=False\n",
    ")\n",
    "\n",
    "# ✅ 合并增强数据与原始数据\n",
    "combined_dataset = concatenate_datasets([dataset, augmented_dataset])\n",
    "# -------- 数据增强结束 --------\n",
    "\n",
    "# -------- Tokenize 合并后数据 --------\n",
    "tokenized_dataset = combined_dataset.map(preprocess, batched=True, remove_columns=[\"text\"])\n",
    "tokenized_dataset = tokenized_dataset.rename_column(\"label\", \"labels\")\n",
    "\n",
    "# -------- 重新划分训练集 --------\n",
    "split_datasets = tokenized_dataset.train_test_split(test_size=640, seed=42)\n",
    "train_dataset = split_datasets['train']\n",
    "\n",
    "# -------- 验证集（使用原始数据） --------\n",
    "raw_eval_dataset = dataset.train_test_split(test_size=640, seed=42)['test']\n",
    "eval_dataset = raw_eval_dataset.map(preprocess, batched=True, remove_columns=[\"text\"])\n",
    "eval_dataset = eval_dataset.rename_column(\"label\", \"labels\")\n"
   ]
  },
  {
   "cell_type": "markdown",
   "id": "652452e3",
   "metadata": {
    "id": "652452e3"
   },
   "source": [
    "## Setup LoRA Config\n",
    "Setup PEFT config and get peft model for finetuning"
   ]
  },
  {
   "cell_type": "code",
   "execution_count": 8,
   "id": "bd0ca0ea-86b8-47f7-8cbf-83da25685876",
   "metadata": {
    "execution": {
     "iopub.execute_input": "2025-04-18T16:47:56.340423Z",
     "iopub.status.busy": "2025-04-18T16:47:56.340206Z",
     "iopub.status.idle": "2025-04-18T16:47:56.344413Z",
     "shell.execute_reply": "2025-04-18T16:47:56.343631Z",
     "shell.execute_reply.started": "2025-04-18T16:47:56.340408Z"
    },
    "id": "bd0ca0ea-86b8-47f7-8cbf-83da25685876",
    "trusted": true
   },
   "outputs": [],
   "source": [
    "# PEFT Config\n",
    "peft_config = LoraConfig(\n",
    "    r=8,\n",
    "    lora_alpha=16,\n",
    "    lora_dropout=0.1,\n",
    "    bias = 'none',\n",
    "    target_modules = ['query', 'value'],\n",
    "    task_type=\"SEQ_CLS\",\n",
    ")"
   ]
  },
  {
   "cell_type": "code",
   "execution_count": 9,
   "id": "6ec2739d-76b6-4fde-91c2-0fc49e1884b0",
   "metadata": {
    "execution": {
     "iopub.execute_input": "2025-04-18T17:18:34.631045Z",
     "iopub.status.busy": "2025-04-18T17:18:34.630358Z",
     "iopub.status.idle": "2025-04-18T17:18:34.668247Z",
     "shell.execute_reply": "2025-04-18T17:18:34.667606Z",
     "shell.execute_reply.started": "2025-04-18T17:18:34.631019Z"
    },
    "id": "6ec2739d-76b6-4fde-91c2-0fc49e1884b0",
    "trusted": true
   },
   "outputs": [
    {
     "data": {
      "text/plain": [
       "PeftModelForSequenceClassification(\n",
       "  (base_model): LoraModel(\n",
       "    (model): RobertaForSequenceClassification(\n",
       "      (roberta): RobertaModel(\n",
       "        (embeddings): RobertaEmbeddings(\n",
       "          (word_embeddings): Embedding(50265, 768, padding_idx=1)\n",
       "          (position_embeddings): Embedding(514, 768, padding_idx=1)\n",
       "          (token_type_embeddings): Embedding(1, 768)\n",
       "          (LayerNorm): LayerNorm((768,), eps=1e-05, elementwise_affine=True)\n",
       "          (dropout): Dropout(p=0.1, inplace=False)\n",
       "        )\n",
       "        (encoder): RobertaEncoder(\n",
       "          (layer): ModuleList(\n",
       "            (0-11): 12 x RobertaLayer(\n",
       "              (attention): RobertaAttention(\n",
       "                (self): RobertaSdpaSelfAttention(\n",
       "                  (query): lora.Linear(\n",
       "                    (base_layer): Linear(in_features=768, out_features=768, bias=True)\n",
       "                    (lora_dropout): ModuleDict(\n",
       "                      (default): Dropout(p=0.1, inplace=False)\n",
       "                    )\n",
       "                    (lora_A): ModuleDict(\n",
       "                      (default): Linear(in_features=768, out_features=8, bias=False)\n",
       "                    )\n",
       "                    (lora_B): ModuleDict(\n",
       "                      (default): Linear(in_features=8, out_features=768, bias=False)\n",
       "                    )\n",
       "                    (lora_embedding_A): ParameterDict()\n",
       "                    (lora_embedding_B): ParameterDict()\n",
       "                    (lora_magnitude_vector): ModuleDict()\n",
       "                  )\n",
       "                  (key): Linear(in_features=768, out_features=768, bias=True)\n",
       "                  (value): lora.Linear(\n",
       "                    (base_layer): Linear(in_features=768, out_features=768, bias=True)\n",
       "                    (lora_dropout): ModuleDict(\n",
       "                      (default): Dropout(p=0.1, inplace=False)\n",
       "                    )\n",
       "                    (lora_A): ModuleDict(\n",
       "                      (default): Linear(in_features=768, out_features=8, bias=False)\n",
       "                    )\n",
       "                    (lora_B): ModuleDict(\n",
       "                      (default): Linear(in_features=8, out_features=768, bias=False)\n",
       "                    )\n",
       "                    (lora_embedding_A): ParameterDict()\n",
       "                    (lora_embedding_B): ParameterDict()\n",
       "                    (lora_magnitude_vector): ModuleDict()\n",
       "                  )\n",
       "                  (dropout): Dropout(p=0.1, inplace=False)\n",
       "                )\n",
       "                (output): RobertaSelfOutput(\n",
       "                  (dense): Linear(in_features=768, out_features=768, bias=True)\n",
       "                  (LayerNorm): LayerNorm((768,), eps=1e-05, elementwise_affine=True)\n",
       "                  (dropout): Dropout(p=0.1, inplace=False)\n",
       "                )\n",
       "              )\n",
       "              (intermediate): RobertaIntermediate(\n",
       "                (dense): Linear(in_features=768, out_features=3072, bias=True)\n",
       "                (intermediate_act_fn): GELUActivation()\n",
       "              )\n",
       "              (output): RobertaOutput(\n",
       "                (dense): Linear(in_features=3072, out_features=768, bias=True)\n",
       "                (LayerNorm): LayerNorm((768,), eps=1e-05, elementwise_affine=True)\n",
       "                (dropout): Dropout(p=0.1, inplace=False)\n",
       "              )\n",
       "            )\n",
       "          )\n",
       "        )\n",
       "      )\n",
       "      (classifier): ModulesToSaveWrapper(\n",
       "        (original_module): RobertaClassificationHead(\n",
       "          (dense): Linear(in_features=768, out_features=768, bias=True)\n",
       "          (dropout): Dropout(p=0.1, inplace=False)\n",
       "          (out_proj): Linear(in_features=768, out_features=4, bias=True)\n",
       "        )\n",
       "        (modules_to_save): ModuleDict(\n",
       "          (default): RobertaClassificationHead(\n",
       "            (dense): Linear(in_features=768, out_features=768, bias=True)\n",
       "            (dropout): Dropout(p=0.1, inplace=False)\n",
       "            (out_proj): Linear(in_features=768, out_features=4, bias=True)\n",
       "          )\n",
       "        )\n",
       "      )\n",
       "    )\n",
       "  )\n",
       ")"
      ]
     },
     "execution_count": 9,
     "metadata": {},
     "output_type": "execute_result"
    }
   ],
   "source": [
    "peft_model = get_peft_model(model, peft_config)\n",
    "\n",
    "peft_model"
   ]
  },
  {
   "cell_type": "code",
   "execution_count": 10,
   "id": "a769f54e-05ad-4e3c-aae8-d00d1d9dfb2f",
   "metadata": {
    "execution": {
     "iopub.execute_input": "2025-04-18T17:18:37.282498Z",
     "iopub.status.busy": "2025-04-18T17:18:37.281787Z",
     "iopub.status.idle": "2025-04-18T17:18:37.288437Z",
     "shell.execute_reply": "2025-04-18T17:18:37.287672Z",
     "shell.execute_reply.started": "2025-04-18T17:18:37.282471Z"
    },
    "id": "a769f54e-05ad-4e3c-aae8-d00d1d9dfb2f",
    "trusted": true
   },
   "outputs": [
    {
     "name": "stdout",
     "output_type": "stream",
     "text": [
      "Trainable parameters:\n",
      "base_model.model.roberta.encoder.layer.0.attention.self.query.lora_A.default.weight\n",
      "base_model.model.roberta.encoder.layer.0.attention.self.query.lora_B.default.weight\n",
      "base_model.model.roberta.encoder.layer.0.attention.self.value.lora_A.default.weight\n",
      "base_model.model.roberta.encoder.layer.0.attention.self.value.lora_B.default.weight\n",
      "base_model.model.roberta.encoder.layer.1.attention.self.query.lora_A.default.weight\n",
      "base_model.model.roberta.encoder.layer.1.attention.self.query.lora_B.default.weight\n",
      "base_model.model.roberta.encoder.layer.1.attention.self.value.lora_A.default.weight\n",
      "base_model.model.roberta.encoder.layer.1.attention.self.value.lora_B.default.weight\n",
      "base_model.model.roberta.encoder.layer.2.attention.self.query.lora_A.default.weight\n",
      "base_model.model.roberta.encoder.layer.2.attention.self.query.lora_B.default.weight\n",
      "base_model.model.roberta.encoder.layer.2.attention.self.value.lora_A.default.weight\n",
      "base_model.model.roberta.encoder.layer.2.attention.self.value.lora_B.default.weight\n",
      "base_model.model.roberta.encoder.layer.3.attention.self.query.lora_A.default.weight\n",
      "base_model.model.roberta.encoder.layer.3.attention.self.query.lora_B.default.weight\n",
      "base_model.model.roberta.encoder.layer.3.attention.self.value.lora_A.default.weight\n",
      "base_model.model.roberta.encoder.layer.3.attention.self.value.lora_B.default.weight\n",
      "base_model.model.roberta.encoder.layer.4.attention.self.query.lora_A.default.weight\n",
      "base_model.model.roberta.encoder.layer.4.attention.self.query.lora_B.default.weight\n",
      "base_model.model.roberta.encoder.layer.4.attention.self.value.lora_A.default.weight\n",
      "base_model.model.roberta.encoder.layer.4.attention.self.value.lora_B.default.weight\n",
      "base_model.model.roberta.encoder.layer.5.attention.self.query.lora_A.default.weight\n",
      "base_model.model.roberta.encoder.layer.5.attention.self.query.lora_B.default.weight\n",
      "base_model.model.roberta.encoder.layer.5.attention.self.value.lora_A.default.weight\n",
      "base_model.model.roberta.encoder.layer.5.attention.self.value.lora_B.default.weight\n",
      "base_model.model.roberta.encoder.layer.6.attention.self.query.lora_A.default.weight\n",
      "base_model.model.roberta.encoder.layer.6.attention.self.query.lora_B.default.weight\n",
      "base_model.model.roberta.encoder.layer.6.attention.self.value.lora_A.default.weight\n",
      "base_model.model.roberta.encoder.layer.6.attention.self.value.lora_B.default.weight\n",
      "base_model.model.roberta.encoder.layer.7.attention.self.query.lora_A.default.weight\n",
      "base_model.model.roberta.encoder.layer.7.attention.self.query.lora_B.default.weight\n",
      "base_model.model.roberta.encoder.layer.7.attention.self.value.lora_A.default.weight\n",
      "base_model.model.roberta.encoder.layer.7.attention.self.value.lora_B.default.weight\n",
      "base_model.model.roberta.encoder.layer.8.attention.self.query.lora_A.default.weight\n",
      "base_model.model.roberta.encoder.layer.8.attention.self.query.lora_B.default.weight\n",
      "base_model.model.roberta.encoder.layer.8.attention.self.value.lora_A.default.weight\n",
      "base_model.model.roberta.encoder.layer.8.attention.self.value.lora_B.default.weight\n",
      "base_model.model.roberta.encoder.layer.9.attention.self.query.lora_A.default.weight\n",
      "base_model.model.roberta.encoder.layer.9.attention.self.query.lora_B.default.weight\n",
      "base_model.model.roberta.encoder.layer.9.attention.self.value.lora_A.default.weight\n",
      "base_model.model.roberta.encoder.layer.9.attention.self.value.lora_B.default.weight\n",
      "base_model.model.roberta.encoder.layer.10.attention.self.query.lora_A.default.weight\n",
      "base_model.model.roberta.encoder.layer.10.attention.self.query.lora_B.default.weight\n",
      "base_model.model.roberta.encoder.layer.10.attention.self.value.lora_A.default.weight\n",
      "base_model.model.roberta.encoder.layer.10.attention.self.value.lora_B.default.weight\n",
      "base_model.model.roberta.encoder.layer.11.attention.self.query.lora_A.default.weight\n",
      "base_model.model.roberta.encoder.layer.11.attention.self.query.lora_B.default.weight\n",
      "base_model.model.roberta.encoder.layer.11.attention.self.value.lora_A.default.weight\n",
      "base_model.model.roberta.encoder.layer.11.attention.self.value.lora_B.default.weight\n",
      "base_model.model.classifier.modules_to_save.default.dense.weight\n",
      "base_model.model.classifier.modules_to_save.default.dense.bias\n",
      "base_model.model.classifier.modules_to_save.default.out_proj.weight\n",
      "base_model.model.classifier.modules_to_save.default.out_proj.bias\n"
     ]
    }
   ],
   "source": [
    "print(\"Trainable parameters:\")\n",
    "for name, param in peft_model.named_parameters():\n",
    "    if param.requires_grad:\n",
    "        print(name)"
   ]
  },
  {
   "cell_type": "code",
   "execution_count": 11,
   "id": "da45f85c-b016-4c49-8808-6eafa7cb5d1b",
   "metadata": {
    "execution": {
     "iopub.execute_input": "2025-04-18T17:18:39.291986Z",
     "iopub.status.busy": "2025-04-18T17:18:39.291669Z",
     "iopub.status.idle": "2025-04-18T17:18:39.298104Z",
     "shell.execute_reply": "2025-04-18T17:18:39.297369Z",
     "shell.execute_reply.started": "2025-04-18T17:18:39.291964Z"
    },
    "id": "da45f85c-b016-4c49-8808-6eafa7cb5d1b",
    "trusted": true
   },
   "outputs": [
    {
     "name": "stdout",
     "output_type": "stream",
     "text": [
      "PEFT Model\n",
      "trainable params: 888,580 || all params: 125,537,288 || trainable%: 0.7078\n"
     ]
    }
   ],
   "source": [
    "print('PEFT Model')\n",
    "peft_model.print_trainable_parameters()"
   ]
  },
  {
   "cell_type": "markdown",
   "id": "12284b58",
   "metadata": {
    "id": "12284b58"
   },
   "source": [
    "## Training Setup"
   ]
  },
  {
   "cell_type": "markdown",
   "id": "d9323a54",
   "metadata": {},
   "source": [
    "### Layer-wise Learning Rate Decay"
   ]
  },
  {
   "cell_type": "code",
   "execution_count": 12,
   "id": "7d98ace3",
   "metadata": {
    "execution": {
     "iopub.execute_input": "2025-04-18T17:18:40.929097Z",
     "iopub.status.busy": "2025-04-18T17:18:40.928806Z",
     "iopub.status.idle": "2025-04-18T17:18:40.937979Z",
     "shell.execute_reply": "2025-04-18T17:18:40.937171Z",
     "shell.execute_reply.started": "2025-04-18T17:18:40.929073Z"
    },
    "trusted": true
   },
   "outputs": [],
   "source": [
    "from torch.optim import AdamW\n",
    "\n",
    "def create_optimizer_with_llrd(model, base_lr=5e-5, layer_decay=0.9):\n",
    "    grouped_parameters = []\n",
    "    seen_params = set()  # ✅ 用于去重\n",
    "\n",
    "    num_layers = len(model.base_model.roberta.encoder.layer)\n",
    "\n",
    "    # Transformer 每一层\n",
    "    for layer_idx in range(num_layers):\n",
    "        layer = model.base_model.roberta.encoder.layer[layer_idx]\n",
    "        layer_lr = base_lr * (layer_decay ** (num_layers - layer_idx - 1))\n",
    "        params = [p for n, p in layer.named_parameters() if p.requires_grad and p not in seen_params]\n",
    "        seen_params.update(params)\n",
    "        if params:\n",
    "            grouped_parameters.append({\"params\": params, \"lr\": layer_lr})\n",
    "\n",
    "    # Embeddings\n",
    "    embed_lr = base_lr * (layer_decay ** num_layers)\n",
    "    embed_params = [p for n, p in model.base_model.roberta.embeddings.named_parameters()\n",
    "                    if p.requires_grad and p not in seen_params]\n",
    "    seen_params.update(embed_params)\n",
    "    if embed_params:\n",
    "        grouped_parameters.append({\"params\": embed_params, \"lr\": embed_lr})\n",
    "\n",
    "    # Classifier\n",
    "    cls_params = [p for n, p in model.base_model.classifier.named_parameters()\n",
    "                  if p.requires_grad and p not in seen_params]\n",
    "    seen_params.update(cls_params)\n",
    "    if cls_params:\n",
    "        grouped_parameters.append({\"params\": cls_params, \"lr\": base_lr})\n",
    "\n",
    "    # LoRA adapter（识别名称中包含 \"lora\" 的参数）\n",
    "    for name, param in model.named_parameters():\n",
    "        if param.requires_grad and 'lora' in name and param not in seen_params:\n",
    "            if 'encoder.layer.' in name:\n",
    "                layer_num = int(name.split('encoder.layer.')[1].split('.')[0])\n",
    "                lora_lr = base_lr * (layer_decay ** (num_layers - layer_num - 1))\n",
    "            else:\n",
    "                lora_lr = base_lr\n",
    "            grouped_parameters.append({'params': [param], 'lr': lora_lr})\n",
    "            seen_params.add(param)\n",
    "\n",
    "    return AdamW(grouped_parameters, lr=base_lr)\n",
    "\n"
   ]
  },
  {
   "cell_type": "code",
   "execution_count": 13,
   "id": "0ee64c43-fe38-479a-b3c5-7d939a3db4c1",
   "metadata": {
    "execution": {
     "iopub.execute_input": "2025-04-18T17:18:42.820084Z",
     "iopub.status.busy": "2025-04-18T17:18:42.819788Z",
     "iopub.status.idle": "2025-04-18T17:18:42.824478Z",
     "shell.execute_reply": "2025-04-18T17:18:42.823759Z",
     "shell.execute_reply.started": "2025-04-18T17:18:42.820063Z"
    },
    "id": "0ee64c43-fe38-479a-b3c5-7d939a3db4c1",
    "trusted": true
   },
   "outputs": [],
   "source": [
    "# To track evaluation accuracy during training\n",
    "from sklearn.metrics import accuracy_score, precision_score, recall_score, f1_score\n",
    "\n",
    "def compute_metrics(pred):\n",
    "    labels = pred.label_ids\n",
    "    preds = pred.predictions.argmax(-1)\n",
    "    # Calculate accuracy\n",
    "    accuracy = accuracy_score(labels, preds)\n",
    "    return {\n",
    "        'accuracy': accuracy\n",
    "    }"
   ]
  },
  {
   "cell_type": "code",
   "execution_count": 17,
   "id": "768b4917-65de-4e55-ae7f-698e287535d4",
   "metadata": {
    "execution": {
     "iopub.execute_input": "2025-04-18T17:18:45.228238Z",
     "iopub.status.busy": "2025-04-18T17:18:45.227696Z",
     "iopub.status.idle": "2025-04-18T17:18:45.265146Z",
     "shell.execute_reply": "2025-04-18T17:18:45.264618Z",
     "shell.execute_reply.started": "2025-04-18T17:18:45.228214Z"
    },
    "id": "768b4917-65de-4e55-ae7f-698e287535d4",
    "trusted": true
   },
   "outputs": [],
   "source": [
    "from torch.utils.data import DataLoader\n",
    "# Setup Training args\n",
    "output_dir = \"results_new\"\n",
    "training_args = TrainingArguments(\n",
    "    output_dir=output_dir,\n",
    "    report_to=None,\n",
    "    eval_strategy='steps',\n",
    "    logging_steps=1000,\n",
    "    learning_rate=5e-5,\n",
    "    num_train_epochs=10,\n",
    "    save_strategy=\"steps\",\n",
    "    save_steps=1000,\n",
    "    save_total_limit=10,  # ✅ 保留最近8个checkpoint\n",
    "    # max_steps=1200,\n",
    "    use_cpu=False,\n",
    "    dataloader_num_workers=4,\n",
    "    per_device_train_batch_size=32,\n",
    "    per_device_eval_batch_size=64,\n",
    "    optim=\"adamw_torch\",\n",
    "    gradient_checkpointing=True,\n",
    "    gradient_checkpointing_kwargs={'use_reentrant':True},\n",
    "    fp16=True,\n",
    "    load_best_model_at_end=True,             # ✅ 自动加载验证集效果最好的模型\n",
    "    metric_for_best_model=\"accuracy\",        # ✅ 哪个metric作为标准（你可以改成 f1 等）\n",
    "    greater_is_better=True,                  # ✅ accuracy 越高越好\n",
    ")\n",
    "\n",
    "class LLRDTrainer(Trainer):\n",
    "    def create_optimizer(self):\n",
    "        self.optimizer = create_optimizer_with_llrd(self.model, base_lr=training_args.learning_rate)\n",
    "        return self.optimizer\n",
    "\n",
    "    def get_train_dataloader(self):\n",
    "        return DataLoader(\n",
    "            train_dataset,\n",
    "            shuffle=True,\n",
    "            batch_size=self.args.per_device_train_batch_size,\n",
    "            collate_fn=data_collator,\n",
    "            # num_workers=0  # ✅ 关键：禁用多线程 dataloader，避免死锁\n",
    "        )\n",
    "\n",
    "    def get_eval_dataloader(self, eval_dataset=None):\n",
    "        return DataLoader(\n",
    "            eval_dataset or self.eval_dataset,\n",
    "            batch_size=self.args.per_device_eval_batch_size,\n",
    "            collate_fn=data_collator,\n",
    "            # num_workers=0  # ✅ 一样禁用\n",
    "        )\n",
    "\n",
    "\n",
    "\n",
    "def get_trainer(model):\n",
    "    model.gradient_checkpointing_enable()\n",
    "    model.enable_input_require_grads()\n",
    "\n",
    "    return LLRDTrainer(\n",
    "        model=model,\n",
    "        args=training_args,\n",
    "        compute_metrics=compute_metrics,\n",
    "        train_dataset=train_dataset,   # ✅ 保留原方式\n",
    "        eval_dataset=eval_dataset,\n",
    "        data_collator=data_collator,\n",
    "        callbacks=[EarlyStoppingCallback(early_stopping_patience=7)]\n",
    "    )"
   ]
  },
  {
   "cell_type": "markdown",
   "id": "9b848278",
   "metadata": {
    "id": "9b848278"
   },
   "source": [
    "### Start Training"
   ]
  },
  {
   "cell_type": "code",
   "execution_count": 18,
   "id": "45947e38-b498-4385-99cf-c5e0c32f86f7",
   "metadata": {
    "execution": {
     "iopub.execute_input": "2025-04-18T17:18:49.201144Z",
     "iopub.status.busy": "2025-04-18T17:18:49.200570Z",
     "iopub.status.idle": "2025-04-18T17:18:49.207916Z",
     "shell.execute_reply": "2025-04-18T17:18:49.206952Z",
     "shell.execute_reply.started": "2025-04-18T17:18:49.201119Z"
    },
    "trusted": true
   },
   "outputs": [
    {
     "name": "stdout",
     "output_type": "stream",
     "text": [
      "🧪 train_dataset[0] keys: dict_keys(['labels', 'input_ids', 'attention_mask'])\n",
      "🧪 input_ids: [0, 20556, 13716, 826, 7351, 2459, 7858, 16838, 1309, 18335]\n",
      "🧪 labels: 2\n"
     ]
    }
   ],
   "source": [
    "print(\"🧪 train_dataset[0] keys:\", train_dataset[0].keys())\n",
    "print(\"🧪 input_ids:\", train_dataset[0]['input_ids'][:10])\n",
    "print(\"🧪 labels:\", train_dataset[0]['labels'])"
   ]
  },
  {
   "cell_type": "code",
   "execution_count": 19,
   "id": "98d9d57d-b57f-4acc-80fb-fc5443e75515",
   "metadata": {
    "execution": {
     "iopub.execute_input": "2025-04-18T17:18:51.672805Z",
     "iopub.status.busy": "2025-04-18T17:18:51.672463Z"
    },
    "id": "98d9d57d-b57f-4acc-80fb-fc5443e75515",
    "trusted": true
   },
   "outputs": [
    {
     "name": "stderr",
     "output_type": "stream",
     "text": [
      "No label_names provided for model class `PeftModelForSequenceClassification`. Since `PeftModel` hides base models input arguments, if label_names is not given, label_names can't be set automatically within `Trainer`. Note that empty label_names list will be used instead.\n"
     ]
    },
    {
     "name": "stdout",
     "output_type": "stream",
     "text": [
      "🔥 开始调用 get_trainer...\n",
      "✅ get_trainer 完成，开始训练...\n"
     ]
    },
    {
     "data": {
      "text/html": [
       "\n",
       "    <div>\n",
       "      \n",
       "      <progress value='25000' max='74800' style='width:300px; height:20px; vertical-align: middle;'></progress>\n",
       "      [25000/74800 1:20:56 < 2:41:14, 5.15 it/s, Epoch 3/10]\n",
       "    </div>\n",
       "    <table border=\"1\" class=\"dataframe\">\n",
       "  <thead>\n",
       " <tr style=\"text-align: left;\">\n",
       "      <th>Step</th>\n",
       "      <th>Training Loss</th>\n",
       "      <th>Validation Loss</th>\n",
       "      <th>Accuracy</th>\n",
       "    </tr>\n",
       "  </thead>\n",
       "  <tbody>\n",
       "    <tr>\n",
       "      <td>1000</td>\n",
       "      <td>0.310700</td>\n",
       "      <td>0.289674</td>\n",
       "      <td>0.901563</td>\n",
       "    </tr>\n",
       "    <tr>\n",
       "      <td>2000</td>\n",
       "      <td>0.259800</td>\n",
       "      <td>0.275776</td>\n",
       "      <td>0.909375</td>\n",
       "    </tr>\n",
       "    <tr>\n",
       "      <td>3000</td>\n",
       "      <td>0.251900</td>\n",
       "      <td>0.267690</td>\n",
       "      <td>0.910937</td>\n",
       "    </tr>\n",
       "    <tr>\n",
       "      <td>4000</td>\n",
       "      <td>0.246100</td>\n",
       "      <td>0.245061</td>\n",
       "      <td>0.912500</td>\n",
       "    </tr>\n",
       "    <tr>\n",
       "      <td>5000</td>\n",
       "      <td>0.236500</td>\n",
       "      <td>0.229014</td>\n",
       "      <td>0.921875</td>\n",
       "    </tr>\n",
       "    <tr>\n",
       "      <td>6000</td>\n",
       "      <td>0.221900</td>\n",
       "      <td>0.220642</td>\n",
       "      <td>0.925000</td>\n",
       "    </tr>\n",
       "    <tr>\n",
       "      <td>7000</td>\n",
       "      <td>0.217900</td>\n",
       "      <td>0.215730</td>\n",
       "      <td>0.928125</td>\n",
       "    </tr>\n",
       "    <tr>\n",
       "      <td>8000</td>\n",
       "      <td>0.214800</td>\n",
       "      <td>0.214141</td>\n",
       "      <td>0.928125</td>\n",
       "    </tr>\n",
       "    <tr>\n",
       "      <td>9000</td>\n",
       "      <td>0.208900</td>\n",
       "      <td>0.208453</td>\n",
       "      <td>0.928125</td>\n",
       "    </tr>\n",
       "    <tr>\n",
       "      <td>10000</td>\n",
       "      <td>0.211700</td>\n",
       "      <td>0.212019</td>\n",
       "      <td>0.928125</td>\n",
       "    </tr>\n",
       "    <tr>\n",
       "      <td>11000</td>\n",
       "      <td>0.201300</td>\n",
       "      <td>0.203578</td>\n",
       "      <td>0.928125</td>\n",
       "    </tr>\n",
       "    <tr>\n",
       "      <td>12000</td>\n",
       "      <td>0.197300</td>\n",
       "      <td>0.195010</td>\n",
       "      <td>0.929688</td>\n",
       "    </tr>\n",
       "    <tr>\n",
       "      <td>13000</td>\n",
       "      <td>0.195800</td>\n",
       "      <td>0.187638</td>\n",
       "      <td>0.931250</td>\n",
       "    </tr>\n",
       "    <tr>\n",
       "      <td>14000</td>\n",
       "      <td>0.200200</td>\n",
       "      <td>0.190201</td>\n",
       "      <td>0.937500</td>\n",
       "    </tr>\n",
       "    <tr>\n",
       "      <td>15000</td>\n",
       "      <td>0.192400</td>\n",
       "      <td>0.188314</td>\n",
       "      <td>0.934375</td>\n",
       "    </tr>\n",
       "    <tr>\n",
       "      <td>16000</td>\n",
       "      <td>0.194400</td>\n",
       "      <td>0.189299</td>\n",
       "      <td>0.932813</td>\n",
       "    </tr>\n",
       "    <tr>\n",
       "      <td>17000</td>\n",
       "      <td>0.194200</td>\n",
       "      <td>0.186590</td>\n",
       "      <td>0.934375</td>\n",
       "    </tr>\n",
       "    <tr>\n",
       "      <td>18000</td>\n",
       "      <td>0.187400</td>\n",
       "      <td>0.172926</td>\n",
       "      <td>0.940625</td>\n",
       "    </tr>\n",
       "    <tr>\n",
       "      <td>19000</td>\n",
       "      <td>0.191100</td>\n",
       "      <td>0.178893</td>\n",
       "      <td>0.937500</td>\n",
       "    </tr>\n",
       "    <tr>\n",
       "      <td>20000</td>\n",
       "      <td>0.187500</td>\n",
       "      <td>0.184997</td>\n",
       "      <td>0.934375</td>\n",
       "    </tr>\n",
       "    <tr>\n",
       "      <td>21000</td>\n",
       "      <td>0.185900</td>\n",
       "      <td>0.177256</td>\n",
       "      <td>0.940625</td>\n",
       "    </tr>\n",
       "    <tr>\n",
       "      <td>22000</td>\n",
       "      <td>0.185300</td>\n",
       "      <td>0.183036</td>\n",
       "      <td>0.931250</td>\n",
       "    </tr>\n",
       "    <tr>\n",
       "      <td>23000</td>\n",
       "      <td>0.183400</td>\n",
       "      <td>0.178358</td>\n",
       "      <td>0.937500</td>\n",
       "    </tr>\n",
       "    <tr>\n",
       "      <td>24000</td>\n",
       "      <td>0.178700</td>\n",
       "      <td>0.181245</td>\n",
       "      <td>0.940625</td>\n",
       "    </tr>\n",
       "    <tr>\n",
       "      <td>25000</td>\n",
       "      <td>0.179900</td>\n",
       "      <td>0.178370</td>\n",
       "      <td>0.934375</td>\n",
       "    </tr>\n",
       "  </tbody>\n",
       "</table><p>"
      ],
      "text/plain": [
       "<IPython.core.display.HTML object>"
      ]
     },
     "metadata": {},
     "output_type": "display_data"
    }
   ],
   "source": [
    "from transformers import logging\n",
    "logging.set_verbosity_info()\n",
    "logging.disable_default_handler()\n",
    "\n",
    "print(\"🔥 开始调用 get_trainer...\")\n",
    "peft_lora_finetuning_trainer = get_trainer(peft_model)\n",
    "print(\"✅ get_trainer 完成，开始训练...\")\n",
    "\n",
    "result = peft_lora_finetuning_trainer.train()\n"
   ]
  },
  {
   "cell_type": "code",
   "execution_count": null,
   "id": "c713f072",
   "metadata": {},
   "outputs": [],
   "source": [
    "\n",
    "# ✅ 原生训练 Loop 替代 HuggingFace Trainer\n",
    "from torch.utils.data import DataLoader\n",
    "import torch\n",
    "from tqdm import tqdm\n",
    "from sklearn.metrics import accuracy_score\n",
    "from peft import PeftModel\n",
    "import shutil\n",
    "\n",
    "device = torch.device(\"cuda\" if torch.cuda.is_available() else \"cpu\")\n",
    "peft_model.to(device)\n",
    "#peft_model = torch.compile(peft_model)\n",
    "\n",
    "# ✅ 构建 dataloader（使用已有的 train_dataset 和 data_collator）\n",
    "train_loader = DataLoader(train_dataset, batch_size=32, shuffle=True, collate_fn=data_collator, num_workers=0)\n",
    "eval_loader = DataLoader(eval_dataset, batch_size=64, collate_fn=data_collator, num_workers=0)\n",
    "\n",
    "# ✅ 优化器\n",
    "optimizer = torch.optim.AdamW(peft_model.parameters(), lr=5e-5)\n",
    "\n",
    "# ✅ 设置训练轮数\n",
    "num_epochs = 10\n",
    "best_acc = 0.0  # ✅ 初始最佳验证准确率\n",
    "\n",
    "for epoch in range(num_epochs):\n",
    "    print(f\"\\n Epoch {epoch+1}/{num_epochs}\")\n",
    "    peft_model.train()\n",
    "    total_loss = 0\n",
    "\n",
    "    for batch in tqdm(train_loader, desc=\" Training\"):\n",
    "        batch = {k: v.to(device) for k, v in batch.items()}\n",
    "        outputs = peft_model(**batch)\n",
    "        loss = outputs.loss\n",
    "        loss.backward()\n",
    "        optimizer.step()\n",
    "        optimizer.zero_grad()\n",
    "        total_loss += loss.item()\n",
    "\n",
    "    avg_train_loss = total_loss / len(train_loader)\n",
    "    print(f\"✅ Avg train loss: {avg_train_loss:.4f}\")\n",
    "\n",
    "    # ✅ 验证阶段\n",
    "    peft_model.eval()\n",
    "    all_preds, all_labels = [], []\n",
    "\n",
    "    with torch.no_grad():\n",
    "        for batch in tqdm(eval_loader, desc=\" Evaluating\"):\n",
    "            batch = {k: v.to(device) for k, v in batch.items()}\n",
    "            outputs = peft_model(**batch)\n",
    "            preds = outputs.logits.argmax(dim=-1).cpu()\n",
    "            labels = batch[\"labels\"].cpu()\n",
    "            all_preds.extend(preds)\n",
    "            all_labels.extend(labels)\n",
    "\n",
    "    acc = accuracy_score(all_labels, all_preds)\n",
    "    print(f\" Eval Accuracy: {acc:.4f}\")\n",
    "\n",
    "    # ✅ 保存最佳模型（兼容 HuggingFace 的加载方式）\n",
    "    if acc > best_acc:\n",
    "        best_acc = acc\n",
    "        save_path = \"results/checkpoint-best\"\n",
    "        peft_model.save_pretrained(save_path)\n",
    "        print(f\" Saved new best model to {save_path} with acc={acc:.4f}\")\n",
    "        shutil.copytree(save_path, \"/kaggle/working/checkpoint-best\", dirs_exist_ok=True)\n",
    "        print(\" Copied to /kaggle/working/checkpoint-best for persistence\")\n",
    "\n"
   ]
  },
  {
   "cell_type": "code",
   "execution_count": 19,
   "id": "238d4c3d-15c6-4d10-82b1-a854aa74a314",
   "metadata": {
    "execution": {
     "iopub.execute_input": "2025-04-18T16:52:56.438016Z",
     "iopub.status.busy": "2025-04-18T16:52:56.437733Z",
     "iopub.status.idle": "2025-04-18T16:52:56.595232Z",
     "shell.execute_reply": "2025-04-18T16:52:56.594248Z",
     "shell.execute_reply.started": "2025-04-18T16:52:56.437997Z"
    },
    "trusted": true
   },
   "outputs": [
    {
     "name": "stdout",
     "output_type": "stream",
     "text": [
      "ls: cannot access 'results/checkpoint-best': No such file or directory\n"
     ]
    }
   ],
   "source": [
    "ls results/checkpoint-best"
   ]
  },
  {
   "cell_type": "code",
   "execution_count": 36,
   "id": "64ca7d4d",
   "metadata": {
    "execution": {
     "iopub.execute_input": "2025-04-18T16:48:43.084604Z",
     "iopub.status.busy": "2025-04-18T16:48:43.084041Z",
     "iopub.status.idle": "2025-04-18T16:48:43.152627Z",
     "shell.execute_reply": "2025-04-18T16:48:43.151634Z",
     "shell.execute_reply.started": "2025-04-18T16:48:43.084584Z"
    },
    "trusted": true
   },
   "outputs": [
    {
     "name": "stderr",
     "output_type": "stream",
     "text": [
      "/home/zyc/anaconda3/envs/DLproject/lib/python3.10/site-packages/peft/tuners/tuners_utils.py:167: UserWarning: Already found a `peft_config` attribute in the model. This will lead to having multiple adapters in the model. Make sure to know what you are doing!\n",
      "  warnings.warn(\n"
     ]
    },
    {
     "data": {
      "text/plain": [
       "PeftModelForSequenceClassification(\n",
       "  (base_model): LoraModel(\n",
       "    (model): RobertaForSequenceClassification(\n",
       "      (roberta): RobertaModel(\n",
       "        (embeddings): RobertaEmbeddings(\n",
       "          (word_embeddings): Embedding(50265, 768, padding_idx=1)\n",
       "          (position_embeddings): Embedding(514, 768, padding_idx=1)\n",
       "          (token_type_embeddings): Embedding(1, 768)\n",
       "          (LayerNorm): LayerNorm((768,), eps=1e-05, elementwise_affine=True)\n",
       "          (dropout): Dropout(p=0.1, inplace=False)\n",
       "        )\n",
       "        (encoder): RobertaEncoder(\n",
       "          (layer): ModuleList(\n",
       "            (0-11): 12 x RobertaLayer(\n",
       "              (attention): RobertaAttention(\n",
       "                (self): RobertaSdpaSelfAttention(\n",
       "                  (query): lora.Linear(\n",
       "                    (base_layer): Linear(in_features=768, out_features=768, bias=True)\n",
       "                    (lora_dropout): ModuleDict(\n",
       "                      (default): Dropout(p=0.1, inplace=False)\n",
       "                    )\n",
       "                    (lora_A): ModuleDict(\n",
       "                      (default): Linear(in_features=768, out_features=8, bias=False)\n",
       "                    )\n",
       "                    (lora_B): ModuleDict(\n",
       "                      (default): Linear(in_features=8, out_features=768, bias=False)\n",
       "                    )\n",
       "                    (lora_embedding_A): ParameterDict()\n",
       "                    (lora_embedding_B): ParameterDict()\n",
       "                    (lora_magnitude_vector): ModuleDict()\n",
       "                  )\n",
       "                  (key): Linear(in_features=768, out_features=768, bias=True)\n",
       "                  (value): lora.Linear(\n",
       "                    (base_layer): Linear(in_features=768, out_features=768, bias=True)\n",
       "                    (lora_dropout): ModuleDict(\n",
       "                      (default): Dropout(p=0.1, inplace=False)\n",
       "                    )\n",
       "                    (lora_A): ModuleDict(\n",
       "                      (default): Linear(in_features=768, out_features=8, bias=False)\n",
       "                    )\n",
       "                    (lora_B): ModuleDict(\n",
       "                      (default): Linear(in_features=8, out_features=768, bias=False)\n",
       "                    )\n",
       "                    (lora_embedding_A): ParameterDict()\n",
       "                    (lora_embedding_B): ParameterDict()\n",
       "                    (lora_magnitude_vector): ModuleDict()\n",
       "                  )\n",
       "                  (dropout): Dropout(p=0.1, inplace=False)\n",
       "                )\n",
       "                (output): RobertaSelfOutput(\n",
       "                  (dense): Linear(in_features=768, out_features=768, bias=True)\n",
       "                  (LayerNorm): LayerNorm((768,), eps=1e-05, elementwise_affine=True)\n",
       "                  (dropout): Dropout(p=0.1, inplace=False)\n",
       "                )\n",
       "              )\n",
       "              (intermediate): RobertaIntermediate(\n",
       "                (dense): Linear(in_features=768, out_features=3072, bias=True)\n",
       "                (intermediate_act_fn): GELUActivation()\n",
       "              )\n",
       "              (output): RobertaOutput(\n",
       "                (dense): Linear(in_features=3072, out_features=768, bias=True)\n",
       "                (LayerNorm): LayerNorm((768,), eps=1e-05, elementwise_affine=True)\n",
       "                (dropout): Dropout(p=0.1, inplace=False)\n",
       "              )\n",
       "            )\n",
       "          )\n",
       "        )\n",
       "      )\n",
       "      (classifier): ModulesToSaveWrapper(\n",
       "        (original_module): RobertaClassificationHead(\n",
       "          (dense): Linear(in_features=768, out_features=768, bias=True)\n",
       "          (dropout): Dropout(p=0.1, inplace=False)\n",
       "          (out_proj): Linear(in_features=768, out_features=4, bias=True)\n",
       "        )\n",
       "        (modules_to_save): ModuleDict(\n",
       "          (default): RobertaClassificationHead(\n",
       "            (dense): Linear(in_features=768, out_features=768, bias=True)\n",
       "            (dropout): Dropout(p=0.1, inplace=False)\n",
       "            (out_proj): Linear(in_features=768, out_features=4, bias=True)\n",
       "          )\n",
       "        )\n",
       "      )\n",
       "    )\n",
       "  )\n",
       ")"
      ]
     },
     "execution_count": 36,
     "metadata": {},
     "output_type": "execute_result"
    }
   ],
   "source": [
    "# 加载 LoRA adapter 的权重\n",
    "peft_model = PeftModel.from_pretrained(model, \"results_new/checkpoint-18000\")\n",
    "peft_model.to('cuda')\n"
   ]
  },
  {
   "cell_type": "markdown",
   "id": "5183be7e-514f-4e64-a6f4-314a827e6be5",
   "metadata": {
    "id": "5183be7e-514f-4e64-a6f4-314a827e6be5"
   },
   "source": [
    "## Evaluate Finetuned Model\n"
   ]
  },
  {
   "cell_type": "markdown",
   "id": "038198cf-0953-47e7-bd47-b073d05f8378",
   "metadata": {
    "id": "038198cf-0953-47e7-bd47-b073d05f8378"
   },
   "source": [
    "### Performing Inference on Custom Input\n",
    "Uncomment following functions for running inference on custom inputs"
   ]
  },
  {
   "cell_type": "code",
   "execution_count": 37,
   "id": "f88ad420-3f46-4eff-9d71-0ce388163062",
   "metadata": {
    "id": "f88ad420-3f46-4eff-9d71-0ce388163062"
   },
   "outputs": [],
   "source": [
    "def classify(model, tokenizer, text):\n",
    "    device = torch.device(\"cuda\" if torch.cuda.is_available() else \"cpu\")\n",
    "    inputs = tokenizer(text, truncation=True, padding=True, return_tensors=\"pt\").to(device)\n",
    "    output = model(**inputs)\n",
    "\n",
    "    prediction = output.logits.argmax(dim=-1).item()\n",
    "\n",
    "    print(f'\\n Class: {prediction}, Label: {id2label[prediction]}, Text: {text}')\n",
    "    return id2label[prediction]"
   ]
  },
  {
   "cell_type": "code",
   "execution_count": 38,
   "id": "fc52bb94-5e13-4943-9225-a6d7fd053579",
   "metadata": {
    "id": "fc52bb94-5e13-4943-9225-a6d7fd053579"
   },
   "outputs": [
    {
     "name": "stdout",
     "output_type": "stream",
     "text": [
      "\n",
      " Class: 1, Label: Sports, Text: Kederis proclaims innocence Olympic champion Kostas Kederis today left hospital ahead of his date with IOC inquisitors claiming his ...\n",
      "\n",
      " Class: 2, Label: Business, Text: Wall St. Bears Claw Back Into the Black (Reuters) Reuters - Short-sellers, Wall Street's dwindlinand of ultra-cynics, are seeing green again.\n"
     ]
    },
    {
     "data": {
      "text/plain": [
       "'Business'"
      ]
     },
     "execution_count": 38,
     "metadata": {},
     "output_type": "execute_result"
    }
   ],
   "source": [
    "classify( peft_model, tokenizer, \"Kederis proclaims innocence Olympic champion Kostas Kederis today left hospital ahead of his date with IOC inquisitors claiming his ...\")\n",
    "classify( peft_model, tokenizer, \"Wall St. Bears Claw Back Into the Black (Reuters) Reuters - Short-sellers, Wall Street's dwindling\\band of ultra-cynics, are seeing green again.\")"
   ]
  },
  {
   "cell_type": "markdown",
   "id": "68a3e276-bf8c-4403-8a48-5ef19f2beccf",
   "metadata": {
    "id": "68a3e276-bf8c-4403-8a48-5ef19f2beccf"
   },
   "source": [
    "### Run Inference on eval_dataset"
   ]
  },
  {
   "cell_type": "code",
   "execution_count": 39,
   "id": "ebbc20a2-a1c0-4cb7-b842-f52e4de61ed5",
   "metadata": {
    "id": "ebbc20a2-a1c0-4cb7-b842-f52e4de61ed5"
   },
   "outputs": [],
   "source": [
    "from torch.utils.data import DataLoader\n",
    "import evaluate\n",
    "from tqdm import tqdm\n",
    "\n",
    "def evaluate_model(inference_model, dataset, labelled=True, batch_size=8, data_collator=None):\n",
    "    \"\"\"\n",
    "    Evaluate a PEFT model on a dataset.\n",
    "\n",
    "    Args:\n",
    "        inference_model: The model to evaluate.\n",
    "        dataset: The dataset (Hugging Face Dataset) to run inference on.\n",
    "        labelled (bool): If True, the dataset includes labels and metrics will be computed.\n",
    "                         If False, only predictions will be returned.\n",
    "        batch_size (int): Batch size for inference.\n",
    "        data_collator: Function to collate batches. If None, the default collate_fn is used.\n",
    "\n",
    "    Returns:\n",
    "        If labelled is True, returns a tuple (metrics, predictions)\n",
    "        If labelled is False, returns the predictions.\n",
    "    \"\"\"\n",
    "    # Create the DataLoader\n",
    "    eval_dataloader = DataLoader(dataset, batch_size=batch_size, collate_fn=data_collator)\n",
    "    device = torch.device(\"cuda\" if torch.cuda.is_available() else \"cpu\")\n",
    "\n",
    "    inference_model.to(device)\n",
    "    inference_model.eval()\n",
    "\n",
    "    all_predictions = []\n",
    "    if labelled:\n",
    "        metric = evaluate.load('accuracy')\n",
    "\n",
    "    # Loop over the DataLoader\n",
    "    for batch in tqdm(eval_dataloader):\n",
    "        # Move each tensor in the batch to the device\n",
    "        batch = {k: v.to(device) for k, v in batch.items()}\n",
    "        with torch.no_grad():\n",
    "            outputs = inference_model(**batch)\n",
    "        predictions = outputs.logits.argmax(dim=-1)\n",
    "        all_predictions.append(predictions.cpu())\n",
    "\n",
    "        if labelled:\n",
    "            # Expecting that labels are provided under the \"labels\" key.\n",
    "            references = batch[\"labels\"]\n",
    "            metric.add_batch(\n",
    "                predictions=predictions.cpu().numpy(),\n",
    "                references=references.cpu().numpy()\n",
    "            )\n",
    "\n",
    "    # Concatenate predictions from all batches\n",
    "    all_predictions = torch.cat(all_predictions, dim=0)\n",
    "\n",
    "    if labelled:\n",
    "        eval_metric = metric.compute()\n",
    "        print(\"Evaluation Metric:\", eval_metric)\n",
    "        return eval_metric, all_predictions\n",
    "    else:\n",
    "        return all_predictions"
   ]
  },
  {
   "cell_type": "code",
   "execution_count": 40,
   "id": "809635a6-a2c7-4d09-8d60-ababd1815003",
   "metadata": {
    "id": "809635a6-a2c7-4d09-8d60-ababd1815003"
   },
   "outputs": [
    {
     "name": "stderr",
     "output_type": "stream",
     "text": [
      "100%|██████████| 80/80 [00:01<00:00, 43.41it/s]"
     ]
    },
    {
     "name": "stdout",
     "output_type": "stream",
     "text": [
      "Evaluation Metric: {'accuracy': 0.940625}\n"
     ]
    },
    {
     "name": "stderr",
     "output_type": "stream",
     "text": [
      "\n"
     ]
    }
   ],
   "source": [
    "# Check evaluation accuracy\n",
    "_, _ = evaluate_model(peft_model, eval_dataset, True, 8, data_collator)"
   ]
  },
  {
   "cell_type": "code",
   "execution_count": 41,
   "id": "kMJgvV1ZnVhd",
   "metadata": {
    "id": "kMJgvV1ZnVhd"
   },
   "outputs": [
    {
     "name": "stdout",
     "output_type": "stream",
     "text": [
      "<class 'peft.peft_model.PeftModelForSequenceClassification'>\n",
      "trainable params: 593,668 || all params: 125,537,288 || trainable%: 0.4729\n"
     ]
    }
   ],
   "source": [
    "print(type(peft_model))\n",
    "peft_model.print_trainable_parameters()"
   ]
  },
  {
   "cell_type": "markdown",
   "id": "75f39087-f2bb-49d3-9fe1-0d812fb30203",
   "metadata": {
    "id": "75f39087-f2bb-49d3-9fe1-0d812fb30203"
   },
   "source": [
    "### Run Inference on unlabelled dataset"
   ]
  },
  {
   "cell_type": "code",
   "execution_count": 42,
   "id": "2af62541-2c33-4f16-bb1c-cc969c715cd7",
   "metadata": {
    "id": "2af62541-2c33-4f16-bb1c-cc969c715cd7"
   },
   "outputs": [
    {
     "name": "stderr",
     "output_type": "stream",
     "text": [
      "Map: 100%|██████████| 8000/8000 [00:02<00:00, 3188.71 examples/s]\n"
     ]
    },
    {
     "data": {
      "text/plain": [
       "Dataset({\n",
       "    features: ['text'],\n",
       "    num_rows: 8000\n",
       "})"
      ]
     },
     "execution_count": 42,
     "metadata": {},
     "output_type": "execute_result"
    }
   ],
   "source": [
    "#Load your unlabelled data\n",
    "# import panda as pd\n",
    "# with open(\"test_unlabelled.pkl\", \"rb\") as f:\n",
    "#     unlabelled_dataset = pickle.load(f)\n",
    "\n",
    "# print(type(unlabelled_dataset))\n",
    "unlabelled_dataset = pd.read_pickle(\"test_unlabelled.pkl\")\n",
    "\n",
    "test_dataset = unlabelled_dataset.map(preprocess, batched=True, remove_columns=[\"text\"])\n",
    "unlabelled_dataset"
   ]
  },
  {
   "cell_type": "code",
   "execution_count": 43,
   "id": "e60991d3-38b1-4657-8854-408ce66f6b84",
   "metadata": {
    "id": "e60991d3-38b1-4657-8854-408ce66f6b84"
   },
   "outputs": [
    {
     "name": "stderr",
     "output_type": "stream",
     "text": [
      "100%|██████████| 1000/1000 [00:22<00:00, 45.32it/s]\n"
     ]
    },
    {
     "name": "stdout",
     "output_type": "stream",
     "text": [
      "Inference complete. Predictions saved to inference_output.csv\n"
     ]
    }
   ],
   "source": [
    "# Run inference and save predictions\n",
    "preds = evaluate_model(peft_model, test_dataset, False, 8, data_collator)\n",
    "df_output = pd.DataFrame({\n",
    "    'ID': range(len(preds)),\n",
    "    'Label': preds.numpy()  # or preds.tolist()\n",
    "})\n",
    "df_output.to_csv(os.path.join(output_dir,\"inference_output.csv\"), index=False)\n",
    "print(\"Inference complete. Predictions saved to inference_output.csv\")"
   ]
  }
 ],
 "metadata": {
  "accelerator": "GPU",
  "colab": {
   "gpuType": "T4",
   "provenance": []
  },
  "kaggle": {
   "accelerator": "nvidiaTeslaT4",
   "dataSources": [],
   "isGpuEnabled": true,
   "isInternetEnabled": true,
   "language": "python",
   "sourceType": "notebook"
  },
  "kernelspec": {
   "display_name": "DLproject",
   "language": "python",
   "name": "python3"
  },
  "language_info": {
   "codemirror_mode": {
    "name": "ipython",
    "version": 3
   },
   "file_extension": ".py",
   "mimetype": "text/x-python",
   "name": "python",
   "nbconvert_exporter": "python",
   "pygments_lexer": "ipython3",
   "version": "3.10.16"
  }
 },
 "nbformat": 4,
 "nbformat_minor": 5
}
